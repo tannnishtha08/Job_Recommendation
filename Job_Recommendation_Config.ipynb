{
 "cells": [
  {
   "cell_type": "code",
   "execution_count": null,
   "id": "fe5e39b3",
   "metadata": {},
   "outputs": [],
   "source": [
    "# Saved file for each job info\n",
    "JOBS_INFO_JSON_FILE = r'/data/indeed_jobs_infos.json'\n",
    "# Path to webdriver exe\n",
    "WEBDRIVER_PATH = r'D:\\chromedriver\\chromedriver.exe'\n",
    "# City to search: Boston,MA\n",
    "JOB_LOCATIONS = ['Boston,MA']\n",
    "# Seach \"data scientist\" \n",
    "JOB_SEARCH_WORDS = 'data scientist'\n",
    "# To avoid same job posted multiple times,look back for 30 days\n",
    "DAY_RANGE = 305\n",
    "# Path to sample resume\n",
    "SAMPLE_RESUME_PDF = r'./data/SampleResume.pdf'\n"
   ]
  }
 ],
 "metadata": {
  "kernelspec": {
   "display_name": "Python 3 (ipykernel)",
   "language": "python",
   "name": "python3"
  },
  "language_info": {
   "codemirror_mode": {
    "name": "ipython",
    "version": 3
   },
   "file_extension": ".py",
   "mimetype": "text/x-python",
   "name": "python",
   "nbconvert_exporter": "python",
   "pygments_lexer": "ipython3",
   "version": "3.9.12"
  }
 },
 "nbformat": 4,
 "nbformat_minor": 5
}
